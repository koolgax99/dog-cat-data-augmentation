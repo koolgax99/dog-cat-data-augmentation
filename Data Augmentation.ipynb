{
 "cells": [
  {
   "cell_type": "code",
   "execution_count": 1,
   "id": "166e77df",
   "metadata": {},
   "outputs": [],
   "source": [
    "from keras.preprocessing.image import ImageDataGenerator, array_to_img, img_to_array, load_img"
   ]
  },
  {
   "cell_type": "code",
   "execution_count": 2,
   "id": "3f026b38",
   "metadata": {},
   "outputs": [],
   "source": [
    "datagen = ImageDataGenerator(\n",
    "        rotation_range=40,\n",
    "        width_shift_range=0.2,\n",
    "        height_shift_range=0.2,\n",
    "        shear_range=0.2,\n",
    "        zoom_range=0.2,\n",
    "        horizontal_flip=True,\n",
    "        fill_mode='nearest')"
   ]
  },
  {
   "cell_type": "code",
   "execution_count": 3,
   "id": "fe0b3ef4",
   "metadata": {},
   "outputs": [],
   "source": [
    "img = load_img(\"cat.jpg\")"
   ]
  },
  {
   "cell_type": "code",
   "execution_count": 7,
   "id": "cefa2b15",
   "metadata": {},
   "outputs": [
    {
     "data": {
      "text/plain": [
       "array([[[[137., 133., 121.],\n",
       "         [137., 133., 121.],\n",
       "         [137., 133., 121.],\n",
       "         ...,\n",
       "         [112., 109.,  92.],\n",
       "         [112., 109.,  92.],\n",
       "         [112., 109.,  92.]],\n",
       "\n",
       "        [[137., 133., 121.],\n",
       "         [137., 133., 121.],\n",
       "         [137., 133., 121.],\n",
       "         ...,\n",
       "         [112., 109.,  92.],\n",
       "         [112., 109.,  92.],\n",
       "         [112., 109.,  92.]],\n",
       "\n",
       "        [[137., 133., 121.],\n",
       "         [137., 133., 121.],\n",
       "         [137., 133., 121.],\n",
       "         ...,\n",
       "         [112., 109.,  92.],\n",
       "         [112., 109.,  92.],\n",
       "         [112., 109.,  92.]],\n",
       "\n",
       "        ...,\n",
       "\n",
       "        [[202., 187., 154.],\n",
       "         [200., 185., 152.],\n",
       "         [198., 183., 150.],\n",
       "         ...,\n",
       "         [204., 190., 163.],\n",
       "         [204., 188., 162.],\n",
       "         [203., 187., 161.]],\n",
       "\n",
       "        [[205., 190., 159.],\n",
       "         [203., 188., 157.],\n",
       "         [200., 185., 154.],\n",
       "         ...,\n",
       "         [205., 189., 163.],\n",
       "         [206., 189., 161.],\n",
       "         [205., 188., 160.]],\n",
       "\n",
       "        [[206., 191., 160.],\n",
       "         [204., 189., 158.],\n",
       "         [201., 186., 155.],\n",
       "         ...,\n",
       "         [206., 190., 164.],\n",
       "         [206., 189., 161.],\n",
       "         [205., 188., 160.]]]], dtype=float32)"
      ]
     },
     "execution_count": 7,
     "metadata": {},
     "output_type": "execute_result"
    }
   ],
   "source": [
    "x = img_to_array(img)\n",
    "x = x.reshape((1,) + x.shape)\n",
    "x"
   ]
  },
  {
   "cell_type": "code",
   "execution_count": 10,
   "id": "4cae652b",
   "metadata": {},
   "outputs": [],
   "source": [
    "i = 0\n",
    "for batch in datagen.flow(x, batch_size=1, save_to_dir = 'preview', save_prefix=\"cat\", save_format='jpeg'):\n",
    "    i+=1\n",
    "    if i > 100:\n",
    "        break"
   ]
  },
  {
   "cell_type": "code",
   "execution_count": null,
   "id": "74baf169",
   "metadata": {},
   "outputs": [],
   "source": []
  },
  {
   "cell_type": "code",
   "execution_count": null,
   "id": "5eca0f32",
   "metadata": {},
   "outputs": [],
   "source": []
  }
 ],
 "metadata": {
  "kernelspec": {
   "display_name": "Python 3 (ipykernel)",
   "language": "python",
   "name": "python3"
  },
  "language_info": {
   "codemirror_mode": {
    "name": "ipython",
    "version": 3
   },
   "file_extension": ".py",
   "mimetype": "text/x-python",
   "name": "python",
   "nbconvert_exporter": "python",
   "pygments_lexer": "ipython3",
   "version": "3.9.9"
  }
 },
 "nbformat": 4,
 "nbformat_minor": 5
}
